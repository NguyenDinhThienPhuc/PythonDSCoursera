{
 "cells": [
  {
   "cell_type": "markdown",
   "metadata": {
    "deletable": false,
    "editable": false,
    "etc_identifier": "373a3605-5bda-4e1f-beef-04a0173d3f41",
    "nbgrader": {
     "cell_type": "markdown",
     "checksum": "ea942292eff37b50f364f842bcdd8ad9",
     "grade": false,
     "grade_id": "cell-a839e7b47494b4c3",
     "locked": true,
     "schema_version": 3,
     "solution": false
    }
   },
   "source": [
    "# Assignment 2\n",
    "\n",
    "For this assignment you'll be looking at 2017 data on immunizations from the CDC. Your datafile for this assignment is in [assets/NISPUF17.csv](assets/NISPUF17.csv). A data users guide for this, which you'll need to map the variables in the data to the questions being asked, is available at [assets/NIS-PUF17-DUG.pdf](assets/NIS-PUF17-DUG.pdf). **Note: you may have to go to your Jupyter tree (click on the Coursera image) and navigate to the assignment 2 assets folder to see this PDF file).**"
   ]
  },
  {
   "cell_type": "markdown",
   "metadata": {
    "deletable": false,
    "editable": false,
    "hideCode": false,
    "hidePrompt": false,
    "nbgrader": {
     "cell_type": "markdown",
     "checksum": "f85bd44672080d80abd2a7f47aa0f1be",
     "grade": false,
     "grade_id": "cell-58fc2e5938733f6a",
     "locked": true,
     "schema_version": 3,
     "solution": false
    }
   },
   "source": [
    "## Question 1\n",
    "Write a function called `proportion_of_education` which returns the proportion of children in the dataset who had a mother with the education levels equal to less than high school (<12), high school (12), more than high school but not a college graduate (>12) and college degree.\n",
    "\n",
    "*This function should return a dictionary in the form of (use the correct numbers, do not round numbers):* \n",
    "```\n",
    "    {\"less than high school\":0.2,\n",
    "    \"high school\":0.4,\n",
    "    \"more than high school but not college\":0.2,\n",
    "    \"college\":0.2}\n",
    "```"
   ]
  },
  {
   "cell_type": "code",
   "execution_count": 37,
   "metadata": {},
   "outputs": [],
   "source": [
    "import pandas as pd\n",
    "df=pd.read_csv('assets/NISPUF17.csv')\n",
    "#keep_columns=['SEQNUMC','EDUC1']\n",
    "#df=df[keep_columns] #only keep\n",
    "df=df.rename(columns={'SEQNUMC':'Children_ID','EDUC1':'Edu'})\n",
    "#df.head()"
   ]
  },
  {
   "cell_type": "code",
   "execution_count": 39,
   "metadata": {
    "tags": []
   },
   "outputs": [
    {
     "data": {
      "text/plain": [
       "{'less than high school': 0.10202002459160373,\n",
       " 'high school': 0.172352011241876,\n",
       " 'more than high school but not college': 0.24588090637625154,\n",
       " 'college': 0.47974705779026877}"
      ]
     },
     "execution_count": 39,
     "metadata": {},
     "output_type": "execute_result"
    }
   ],
   "source": [
    "df3={\"less than high school\":0,\n",
    "    \"high school\":0,\n",
    "    \"more than high school but not college\":0,\n",
    "    \"college\":0}\n",
    "Mother_Edu=df['Edu']\n",
    "import numpy as np\n",
    "n=len(Mother_Edu)\n",
    "df3['less than high school']=np.sum(Mother_Edu==1)/n\n",
    "df3['high school']=np.sum(Mother_Edu==2)/n\n",
    "df3['more than high school but not college']=np.sum(Mother_Edu==3)/n\n",
    "df3['college']=np.sum(Mother_Edu==4)/n\n",
    "\n",
    "df3"
   ]
  },
  {
   "cell_type": "code",
   "execution_count": 29,
   "metadata": {
    "collapsed": true,
    "jupyter": {
     "outputs_hidden": true
    },
    "tags": []
   },
   "outputs": [
    {
     "data": {
      "text/plain": [
       "Mother_Edu\n",
       "1     2904\n",
       "2     4906\n",
       "3     6999\n",
       "4    13656\n",
       "Name: Children_ID, dtype: int64"
      ]
     },
     "execution_count": 29,
     "metadata": {},
     "output_type": "execute_result"
    }
   ],
   "source": [
    "#df2=df.groupby([\"Mother_Edu\"])[\"Children_ID\"].count()\n",
    "#df2"
   ]
  },
  {
   "cell_type": "code",
   "execution_count": 40,
   "metadata": {
    "deletable": false,
    "nbgrader": {
     "cell_type": "code",
     "checksum": "0ac58deb3f5ac988c643e903cbee7f3a",
     "grade": false,
     "grade_id": "cell-eea16d020eb52ae7",
     "locked": false,
     "schema_version": 3,
     "solution": true
    }
   },
   "outputs": [],
   "source": [
    "def proportion_of_education():\n",
    "    # your code goes here\n",
    "    # YOUR CODE HERE\n",
    "    import pandas as pd\n",
    "    import numpy as np\n",
    "    df=pd.read_csv('assets/NISPUF17.csv')\n",
    "    df=df.rename(columns={'SEQNUMC':'Children_ID','EDUC1':'Edu'})\n",
    "    df3={\"less than high school\":0,\n",
    "    \"high school\":0,\n",
    "    \"more than high school but not college\":0,\n",
    "    \"college\":0}\n",
    "    Mother_Edu=df['Edu']\n",
    "\n",
    "    n=len(Mother_Edu)\n",
    "    df3['less than high school']=np.sum(Mother_Edu==1)/n\n",
    "    df3['high school']=np.sum(Mother_Edu==2)/n\n",
    "    df3['more than high school but not college']=np.sum(Mother_Edu==3)/n\n",
    "    df3['college']=np.sum(Mother_Edu==4)/n\n",
    "    return df3\n",
    "    \n",
    "    #raise NotImplementedError()"
   ]
  },
  {
   "cell_type": "code",
   "execution_count": 42,
   "metadata": {
    "deletable": false,
    "editable": false,
    "hideCode": false,
    "hidePrompt": false,
    "nbgrader": {
     "cell_type": "code",
     "checksum": "ac5d91a24a7f72f66c25d242c3d24a50",
     "grade": true,
     "grade_id": "cell-c0eeef201366f51c",
     "locked": true,
     "points": 1,
     "schema_version": 3,
     "solution": false
    }
   },
   "outputs": [],
   "source": [
    "assert type(proportion_of_education())==type({}), \"You must return a dictionary.\"\n",
    "assert len(proportion_of_education()) == 4, \"You have not returned a dictionary with four items in it.\"\n",
    "assert \"less than high school\" in proportion_of_education().keys(), \"You have not returned a dictionary with the correct keys.\"\n",
    "assert \"high school\" in proportion_of_education().keys(), \"You have not returned a dictionary with the correct keys.\"\n",
    "assert \"more than high school but not college\" in proportion_of_education().keys(), \"You have not returned a dictionary with the correct keys.\"\n",
    "assert \"college\" in proportion_of_education().keys(), \"You have not returned a dictionary with the correct keys.\"\n"
   ]
  },
  {
   "cell_type": "markdown",
   "metadata": {
    "deletable": false,
    "editable": false,
    "nbgrader": {
     "cell_type": "markdown",
     "checksum": "562b78b7b9b79580269be0a3bebf4b42",
     "grade": false,
     "grade_id": "cell-8fcbb64516283f52",
     "locked": true,
     "schema_version": 3,
     "solution": false
    }
   },
   "source": [
    "## Question 2\n",
    "\n",
    "Let's explore the relationship between being fed breastmilk as a child and getting a seasonal influenza vaccine from a healthcare provider. Return a tuple of the average number of influenza vaccines for those children we know received breastmilk as a child and those who know did not.\n",
    "\n",
    "*This function should return a tuple in the form (use the correct numbers:*\n",
    "```\n",
    "(2.5, 0.1)\n",
    "```"
   ]
  },
  {
   "cell_type": "code",
   "execution_count": 53,
   "metadata": {
    "tags": []
   },
   "outputs": [],
   "source": [
    "import pandas as pd\n",
    "import numpy as np\n",
    "df=pd.read_csv('assets/NISPUF17.csv')"
   ]
  },
  {
   "cell_type": "code",
   "execution_count": 59,
   "metadata": {
    "collapsed": true,
    "jupyter": {
     "outputs_hidden": true
    },
    "tags": []
   },
   "outputs": [
    {
     "data": {
      "text/plain": [
       "['Unnamed: 0',\n",
       " 'SEQNUMC',\n",
       " 'SEQNUMHH',\n",
       " 'PDAT',\n",
       " 'PROVWT_D',\n",
       " 'RDDWT_D',\n",
       " 'STRATUM',\n",
       " 'YEAR',\n",
       " 'AGECPOXR',\n",
       " 'HAD_CPOX',\n",
       " 'AGEGRP',\n",
       " 'BF_ENDR06',\n",
       " 'BF_EXCLR06',\n",
       " 'BF_FORMR08',\n",
       " 'BFENDFL06',\n",
       " 'BFFORMFL06',\n",
       " 'C1R',\n",
       " 'C5R',\n",
       " 'CBF_01',\n",
       " 'CEN_REG',\n",
       " 'CHILDNM',\n",
       " 'CWIC_01',\n",
       " 'CWIC_02',\n",
       " 'EDUC1',\n",
       " 'FRSTBRN',\n",
       " 'I_HISP_K',\n",
       " 'INCPORAR',\n",
       " 'INCPORAR_I',\n",
       " 'INCPOV1',\n",
       " 'INCQ298A',\n",
       " 'LANGUAGE',\n",
       " 'M_AGEGRP2',\n",
       " 'MARITAL2',\n",
       " 'MOBIL_I',\n",
       " 'NUM_PHONE',\n",
       " 'NUM_CELLS_HH',\n",
       " 'NUM_CELLS_PARENTS',\n",
       " 'RACE_K',\n",
       " 'RACEETHK',\n",
       " 'RENT_OWN',\n",
       " 'SEX',\n",
       " 'ESTIAP17',\n",
       " 'EST_GRANT',\n",
       " 'STATE',\n",
       " 'D6R',\n",
       " 'D7',\n",
       " 'N_PRVR',\n",
       " 'PROV_FAC',\n",
       " 'REGISTRY',\n",
       " 'VFC_ORDER',\n",
       " 'HEP_BRTH',\n",
       " 'HEP_FLAG',\n",
       " 'P_NUHEPX',\n",
       " 'P_NUHIBX',\n",
       " 'P_NUHPHB',\n",
       " 'P_NUMDAH',\n",
       " 'P_NUMDHI',\n",
       " 'P_NUMDIH',\n",
       " 'P_NUMDTA',\n",
       " 'P_NUMDTP',\n",
       " 'P_NUMFLU',\n",
       " 'P_NUMFLUL',\n",
       " 'P_NUMFLUM',\n",
       " 'P_NUMFLUN',\n",
       " 'P_NUMHEA',\n",
       " 'P_NUMHEN',\n",
       " 'P_NUMHEP',\n",
       " 'P_NUMHG',\n",
       " 'P_NUMHHY',\n",
       " 'P_NUMHIB',\n",
       " 'P_NUMHIN',\n",
       " 'P_NUMHION',\n",
       " 'P_NUMHM',\n",
       " 'P_NUMHS',\n",
       " 'P_NUMIPV',\n",
       " 'P_NUMMCN',\n",
       " 'P_NUMMMR',\n",
       " 'P_NUMMMRX',\n",
       " 'P_NUMMMX',\n",
       " 'P_NUMMP',\n",
       " 'P_NUMMPR',\n",
       " 'P_NUMMRV',\n",
       " 'P_NUMMS',\n",
       " 'P_NUMMSM',\n",
       " 'P_NUMMSR',\n",
       " 'P_NUMOLN',\n",
       " 'P_NUMOPV',\n",
       " 'P_NUMPCV',\n",
       " 'P_NUMPCP',\n",
       " 'P_NUMPCC',\n",
       " 'P_NUMPCC7',\n",
       " 'P_NUMPCC13',\n",
       " 'P_NUMPCCN',\n",
       " 'P_NUMPCN',\n",
       " 'P_NUMPOL',\n",
       " 'P_NUMRB',\n",
       " 'P_NUMRG',\n",
       " 'P_NUMRM',\n",
       " 'P_NUMRO',\n",
       " 'P_NUMROT',\n",
       " 'P_NUMTPN',\n",
       " 'P_NUMVRC',\n",
       " 'P_NUMVRN',\n",
       " 'P_NUMVRX',\n",
       " 'P_U12VRC',\n",
       " 'P_UTD331',\n",
       " 'P_UTD431',\n",
       " 'P_UTDHEP',\n",
       " 'P_UTDHEPA1',\n",
       " 'P_UTDHEPA2',\n",
       " 'P_UTDHIB',\n",
       " 'P_UTDHIB_ROUT_S',\n",
       " 'P_UTDHIB_SHORT_S',\n",
       " 'P_UTDMCV',\n",
       " 'P_UTDMMX',\n",
       " 'P_UTDPC3',\n",
       " 'P_UTDPCV',\n",
       " 'P_UTDPCVB13',\n",
       " 'P_UTDPOL',\n",
       " 'P_UTDROT_S',\n",
       " 'P_UTDTP3',\n",
       " 'P_UTDTP4',\n",
       " 'PU431331',\n",
       " 'P_UTD431H31_ROUT_S',\n",
       " 'PU431_31',\n",
       " 'PU4313313',\n",
       " 'P_UTD431H313_ROUT_S',\n",
       " 'PU4313314',\n",
       " 'P_UTD431H314_ROUT_S',\n",
       " 'PU431_314',\n",
       " 'PUT43133',\n",
       " 'P_UTD431H3_ROUT_S',\n",
       " 'PUTD4313',\n",
       " 'P_UTD431H_ROUT_S',\n",
       " 'U1D_HEP',\n",
       " 'U2D_HEP',\n",
       " 'U3D_HEP',\n",
       " 'DDTP1',\n",
       " 'DDTP2',\n",
       " 'DDTP3',\n",
       " 'DDTP4',\n",
       " 'DDTP5',\n",
       " 'DDTP6',\n",
       " 'DDTP7',\n",
       " 'DDTP8',\n",
       " 'DDTP9',\n",
       " 'DFLU1',\n",
       " 'DFLU2',\n",
       " 'DFLU3',\n",
       " 'DFLU4',\n",
       " 'DFLU5',\n",
       " 'DFLU6',\n",
       " 'DFLU7',\n",
       " 'DFLU8',\n",
       " 'DFLU9',\n",
       " 'DHEPA1',\n",
       " 'DHEPA2',\n",
       " 'DHEPA3',\n",
       " 'DHEPA4',\n",
       " 'DHEPA5',\n",
       " 'DHEPA6',\n",
       " 'DHEPA7',\n",
       " 'DHEPA8',\n",
       " 'DHEPA9',\n",
       " 'DHEPB1',\n",
       " 'DHEPB2',\n",
       " 'DHEPB3',\n",
       " 'DHEPB4',\n",
       " 'DHEPB5',\n",
       " 'DHEPB6',\n",
       " 'DHEPB7',\n",
       " 'DHEPB8',\n",
       " 'DHEPB9',\n",
       " 'DHIB1',\n",
       " 'DHIB2',\n",
       " 'DHIB3',\n",
       " 'DHIB4',\n",
       " 'DHIB5',\n",
       " 'DHIB6',\n",
       " 'DHIB7',\n",
       " 'DHIB8',\n",
       " 'DHIB9',\n",
       " 'DMMR1',\n",
       " 'DMMR2',\n",
       " 'DMMR3',\n",
       " 'DMMR4',\n",
       " 'DMMR5',\n",
       " 'DMMR6',\n",
       " 'DMMR7',\n",
       " 'DMMR8',\n",
       " 'DMMR9',\n",
       " 'DMP1',\n",
       " 'DMP2',\n",
       " 'DMP3',\n",
       " 'DMP4',\n",
       " 'DMP5',\n",
       " 'DMP6',\n",
       " 'DMP7',\n",
       " 'DMP8',\n",
       " 'DMP9',\n",
       " 'DMPRB1',\n",
       " 'DMPRB2',\n",
       " 'DMPRB3',\n",
       " 'DMPRB4',\n",
       " 'DMPRB5',\n",
       " 'DMPRB6',\n",
       " 'DMPRB7',\n",
       " 'DMPRB8',\n",
       " 'DMPRB9',\n",
       " 'DPCV1',\n",
       " 'DPCV2',\n",
       " 'DPCV3',\n",
       " 'DPCV4',\n",
       " 'DPCV5',\n",
       " 'DPCV6',\n",
       " 'DPCV7',\n",
       " 'DPCV8',\n",
       " 'DPCV9',\n",
       " 'DPOLIO1',\n",
       " 'DPOLIO2',\n",
       " 'DPOLIO3',\n",
       " 'DPOLIO4',\n",
       " 'DPOLIO5',\n",
       " 'DPOLIO6',\n",
       " 'DPOLIO7',\n",
       " 'DPOLIO8',\n",
       " 'DPOLIO9',\n",
       " 'DRB1',\n",
       " 'DRB2',\n",
       " 'DRB3',\n",
       " 'DRB4',\n",
       " 'DRB5',\n",
       " 'DRB6',\n",
       " 'DRB7',\n",
       " 'DRB8',\n",
       " 'DRB9',\n",
       " 'DROT1',\n",
       " 'DROT2',\n",
       " 'DROT3',\n",
       " 'DROT4',\n",
       " 'DROT5',\n",
       " 'DROT6',\n",
       " 'DROT7',\n",
       " 'DROT8',\n",
       " 'DROT9',\n",
       " 'DVRC1',\n",
       " 'DVRC2',\n",
       " 'DVRC3',\n",
       " 'DVRC4',\n",
       " 'DVRC5',\n",
       " 'DVRC6',\n",
       " 'DVRC7',\n",
       " 'DVRC8',\n",
       " 'DVRC9',\n",
       " 'DTP1_AGE',\n",
       " 'DTP2_AGE',\n",
       " 'DTP3_AGE',\n",
       " 'DTP4_AGE',\n",
       " 'DTP5_AGE',\n",
       " 'DTP6_AGE',\n",
       " 'DTP7_AGE',\n",
       " 'DTP8_AGE',\n",
       " 'DTP9_AGE',\n",
       " 'FLU1_AGE',\n",
       " 'FLU2_AGE',\n",
       " 'FLU3_AGE',\n",
       " 'FLU4_AGE',\n",
       " 'FLU5_AGE',\n",
       " 'FLU6_AGE',\n",
       " 'FLU7_AGE',\n",
       " 'FLU8_AGE',\n",
       " 'FLU9_AGE',\n",
       " 'HEA1_AGE',\n",
       " 'HEA2_AGE',\n",
       " 'HEA3_AGE',\n",
       " 'HEA4_AGE',\n",
       " 'HEA5_AGE',\n",
       " 'HEA6_AGE',\n",
       " 'HEA7_AGE',\n",
       " 'HEA8_AGE',\n",
       " 'HEA9_AGE',\n",
       " 'HEP1_AGE',\n",
       " 'HEP2_AGE',\n",
       " 'HEP3_AGE',\n",
       " 'HEP4_AGE',\n",
       " 'HEP5_AGE',\n",
       " 'HEP6_AGE',\n",
       " 'HEP7_AGE',\n",
       " 'HEP8_AGE',\n",
       " 'HEP9_AGE',\n",
       " 'HIB1_AGE',\n",
       " 'HIB2_AGE',\n",
       " 'HIB3_AGE',\n",
       " 'HIB4_AGE',\n",
       " 'HIB5_AGE',\n",
       " 'HIB6_AGE',\n",
       " 'HIB7_AGE',\n",
       " 'HIB8_AGE',\n",
       " 'HIB9_AGE',\n",
       " 'MMR1_AGE',\n",
       " 'MMR2_AGE',\n",
       " 'MMR3_AGE',\n",
       " 'MMR4_AGE',\n",
       " 'MMR5_AGE',\n",
       " 'MMR6_AGE',\n",
       " 'MMR7_AGE',\n",
       " 'MMR8_AGE',\n",
       " 'MMR9_AGE',\n",
       " 'MP1_AGE',\n",
       " 'MP2_AGE',\n",
       " 'MP3_AGE',\n",
       " 'MP4_AGE',\n",
       " 'MP5_AGE',\n",
       " 'MP6_AGE',\n",
       " 'MP7_AGE',\n",
       " 'MP8_AGE',\n",
       " 'MP9_AGE',\n",
       " 'MPR1_AGE',\n",
       " 'MPR2_AGE',\n",
       " 'MPR3_AGE',\n",
       " 'MPR4_AGE',\n",
       " 'MPR5_AGE',\n",
       " 'MPR6_AGE',\n",
       " 'MPR7_AGE',\n",
       " 'MPR8_AGE',\n",
       " 'MPR9_AGE',\n",
       " 'PCV1_AGE',\n",
       " 'PCV2_AGE',\n",
       " 'PCV3_AGE',\n",
       " 'PCV4_AGE',\n",
       " 'PCV5_AGE',\n",
       " 'PCV6_AGE',\n",
       " 'PCV7_AGE',\n",
       " 'PCV8_AGE',\n",
       " 'PCV9_AGE',\n",
       " 'POL1_AGE',\n",
       " 'POL2_AGE',\n",
       " 'POL3_AGE',\n",
       " 'POL4_AGE',\n",
       " 'POL5_AGE',\n",
       " 'POL6_AGE',\n",
       " 'POL7_AGE',\n",
       " 'POL8_AGE',\n",
       " 'POL9_AGE',\n",
       " 'RB1_AGE',\n",
       " 'RB2_AGE',\n",
       " 'RB3_AGE',\n",
       " 'RB4_AGE',\n",
       " 'RB5_AGE',\n",
       " 'RB6_AGE',\n",
       " 'RB7_AGE',\n",
       " 'RB8_AGE',\n",
       " 'RB9_AGE',\n",
       " 'ROT1_AGE',\n",
       " 'ROT2_AGE',\n",
       " 'ROT3_AGE',\n",
       " 'ROT4_AGE',\n",
       " 'ROT5_AGE',\n",
       " 'ROT6_AGE',\n",
       " 'ROT7_AGE',\n",
       " 'ROT8_AGE',\n",
       " 'ROT9_AGE',\n",
       " 'VRC1_AGE',\n",
       " 'VRC2_AGE',\n",
       " 'VRC3_AGE',\n",
       " 'VRC4_AGE',\n",
       " 'VRC5_AGE',\n",
       " 'VRC6_AGE',\n",
       " 'VRC7_AGE',\n",
       " 'VRC8_AGE',\n",
       " 'VRC9_AGE',\n",
       " 'XDTPTY1',\n",
       " 'XDTPTY2',\n",
       " 'XDTPTY3',\n",
       " 'XDTPTY4',\n",
       " 'XDTPTY5',\n",
       " 'XDTPTY6',\n",
       " 'XDTPTY7',\n",
       " 'XDTPTY8',\n",
       " 'XDTPTY9',\n",
       " 'XFLUTY1',\n",
       " 'XFLUTY2',\n",
       " 'XFLUTY3',\n",
       " 'XFLUTY4',\n",
       " 'XFLUTY5',\n",
       " 'XFLUTY6',\n",
       " 'XFLUTY7',\n",
       " 'XFLUTY8',\n",
       " 'XFLUTY9',\n",
       " 'XHEPTY1',\n",
       " 'XHEPTY2',\n",
       " 'XHEPTY3',\n",
       " 'XHEPTY4',\n",
       " 'XHEPTY5',\n",
       " 'XHEPTY6',\n",
       " 'XHEPTY7',\n",
       " 'XHEPTY8',\n",
       " 'XHEPTY9',\n",
       " 'XHIBTY1',\n",
       " 'XHIBTY2',\n",
       " 'XHIBTY3',\n",
       " 'XHIBTY4',\n",
       " 'XHIBTY5',\n",
       " 'XHIBTY6',\n",
       " 'XHIBTY7',\n",
       " 'XHIBTY8',\n",
       " 'XHIBTY9',\n",
       " 'XMMRTY1',\n",
       " 'XMMRTY2',\n",
       " 'XMMRTY3',\n",
       " 'XMMRTY4',\n",
       " 'XMMRTY5',\n",
       " 'XMMRTY6',\n",
       " 'XMMRTY7',\n",
       " 'XMMRTY8',\n",
       " 'XMMRTY9',\n",
       " 'XPCVTY1',\n",
       " 'XPCVTY2',\n",
       " 'XPCVTY3',\n",
       " 'XPCVTY4',\n",
       " 'XPCVTY5',\n",
       " 'XPCVTY6',\n",
       " 'XPCVTY7',\n",
       " 'XPCVTY8',\n",
       " 'XPCVTY9',\n",
       " 'XPOLTY1',\n",
       " 'XPOLTY2',\n",
       " 'XPOLTY3',\n",
       " 'XPOLTY4',\n",
       " 'XPOLTY5',\n",
       " 'XPOLTY6',\n",
       " 'XPOLTY7',\n",
       " 'XPOLTY8',\n",
       " 'XPOLTY9',\n",
       " 'XROTTY1',\n",
       " 'XROTTY2',\n",
       " 'XROTTY3',\n",
       " 'XROTTY4',\n",
       " 'XROTTY5',\n",
       " 'XROTTY6',\n",
       " 'XROTTY7',\n",
       " 'XROTTY8',\n",
       " 'XROTTY9',\n",
       " 'XVRCTY1',\n",
       " 'XVRCTY2',\n",
       " 'XVRCTY3',\n",
       " 'XVRCTY4',\n",
       " 'XVRCTY5',\n",
       " 'XVRCTY6',\n",
       " 'XVRCTY7',\n",
       " 'XVRCTY8',\n",
       " 'XVRCTY9',\n",
       " 'INS_STAT2_I',\n",
       " 'INS_BREAK_I']"
      ]
     },
     "execution_count": 59,
     "metadata": {},
     "output_type": "execute_result"
    }
   ],
   "source": [
    "#checking index\n",
    "cols=list(df.columns)\n",
    "cols"
   ]
  },
  {
   "cell_type": "code",
   "execution_count": 63,
   "metadata": {
    "collapsed": true,
    "jupyter": {
     "outputs_hidden": true
    },
    "tags": []
   },
   "outputs": [
    {
     "data": {
      "text/plain": [
       "0        1\n",
       "1        2\n",
       "2        2\n",
       "3        2\n",
       "4        1\n",
       "        ..\n",
       "28460    2\n",
       "28461    1\n",
       "28462    1\n",
       "28463    2\n",
       "28464    1\n",
       "Name: CBF_01, Length: 28465, dtype: int64"
      ]
     },
     "execution_count": 63,
     "metadata": {},
     "output_type": "execute_result"
    }
   ],
   "source": [
    "df['CBF_01']"
   ]
  },
  {
   "cell_type": "code",
   "execution_count": 71,
   "metadata": {
    "collapsed": true,
    "jupyter": {
     "outputs_hidden": true
    },
    "tags": []
   },
   "outputs": [
    {
     "data": {
      "text/plain": [
       "0        NaN\n",
       "1        NaN\n",
       "2        NaN\n",
       "3        3.0\n",
       "4        0.0\n",
       "        ... \n",
       "28460    NaN\n",
       "28461    NaN\n",
       "28462    NaN\n",
       "28463    NaN\n",
       "28464    NaN\n",
       "Name: P_NUMFLU, Length: 28465, dtype: float64"
      ]
     },
     "execution_count": 71,
     "metadata": {},
     "output_type": "execute_result"
    }
   ],
   "source": [
    "df['P_NUMFLU']"
   ]
  },
  {
   "cell_type": "code",
   "execution_count": 54,
   "metadata": {
    "collapsed": true,
    "jupyter": {
     "outputs_hidden": true
    },
    "tags": []
   },
   "outputs": [
    {
     "data": {
      "text/html": [
       "<div>\n",
       "<style scoped>\n",
       "    .dataframe tbody tr th:only-of-type {\n",
       "        vertical-align: middle;\n",
       "    }\n",
       "\n",
       "    .dataframe tbody tr th {\n",
       "        vertical-align: top;\n",
       "    }\n",
       "\n",
       "    .dataframe thead th {\n",
       "        text-align: right;\n",
       "    }\n",
       "</style>\n",
       "<table border=\"1\" class=\"dataframe\">\n",
       "  <thead>\n",
       "    <tr style=\"text-align: right;\">\n",
       "      <th></th>\n",
       "      <th>CBF_01</th>\n",
       "      <th>P_NUMFLU</th>\n",
       "    </tr>\n",
       "  </thead>\n",
       "  <tbody>\n",
       "    <tr>\n",
       "      <th>0</th>\n",
       "      <td>1</td>\n",
       "      <td>NaN</td>\n",
       "    </tr>\n",
       "    <tr>\n",
       "      <th>1</th>\n",
       "      <td>2</td>\n",
       "      <td>NaN</td>\n",
       "    </tr>\n",
       "    <tr>\n",
       "      <th>2</th>\n",
       "      <td>2</td>\n",
       "      <td>NaN</td>\n",
       "    </tr>\n",
       "    <tr>\n",
       "      <th>3</th>\n",
       "      <td>2</td>\n",
       "      <td>3.0</td>\n",
       "    </tr>\n",
       "    <tr>\n",
       "      <th>4</th>\n",
       "      <td>1</td>\n",
       "      <td>0.0</td>\n",
       "    </tr>\n",
       "    <tr>\n",
       "      <th>...</th>\n",
       "      <td>...</td>\n",
       "      <td>...</td>\n",
       "    </tr>\n",
       "    <tr>\n",
       "      <th>28460</th>\n",
       "      <td>2</td>\n",
       "      <td>NaN</td>\n",
       "    </tr>\n",
       "    <tr>\n",
       "      <th>28461</th>\n",
       "      <td>1</td>\n",
       "      <td>NaN</td>\n",
       "    </tr>\n",
       "    <tr>\n",
       "      <th>28462</th>\n",
       "      <td>1</td>\n",
       "      <td>NaN</td>\n",
       "    </tr>\n",
       "    <tr>\n",
       "      <th>28463</th>\n",
       "      <td>2</td>\n",
       "      <td>NaN</td>\n",
       "    </tr>\n",
       "    <tr>\n",
       "      <th>28464</th>\n",
       "      <td>1</td>\n",
       "      <td>NaN</td>\n",
       "    </tr>\n",
       "  </tbody>\n",
       "</table>\n",
       "<p>28465 rows × 2 columns</p>\n",
       "</div>"
      ],
      "text/plain": [
       "       CBF_01  P_NUMFLU\n",
       "0           1       NaN\n",
       "1           2       NaN\n",
       "2           2       NaN\n",
       "3           2       3.0\n",
       "4           1       0.0\n",
       "...       ...       ...\n",
       "28460       2       NaN\n",
       "28461       1       NaN\n",
       "28462       1       NaN\n",
       "28463       2       NaN\n",
       "28464       1       NaN\n",
       "\n",
       "[28465 rows x 2 columns]"
      ]
     },
     "execution_count": 54,
     "metadata": {},
     "output_type": "execute_result"
    }
   ],
   "source": [
    "#Keep CBF_01 and P_NUMFLUE columns =>df2\n",
    "df2=df[['CBF_01','P_NUMFLU']]\n",
    "df2"
   ]
  },
  {
   "cell_type": "code",
   "execution_count": 55,
   "metadata": {},
   "outputs": [],
   "source": [
    "#Rename\n",
    "df2=df2.rename(columns={'CBF_01':'ReceiveBM','P_NUMFLU':'NumDose'})\n",
    "\n",
    "#delete NaN value\n",
    "#df2=df2.dropna(subset = ['NumDose'])\n",
    "#df2"
   ]
  },
  {
   "cell_type": "code",
   "execution_count": 56,
   "metadata": {},
   "outputs": [],
   "source": [
    "#define table of Received BreastMilk\n",
    "Yes_BM=df2[df2['ReceiveBM']==1]\n",
    "#define table of None Received BreastMilk\n",
    "No_BM=df2[df2['ReceiveBM']==2]"
   ]
  },
  {
   "cell_type": "code",
   "execution_count": 57,
   "metadata": {},
   "outputs": [
    {
     "data": {
      "text/plain": [
       "1.0298833518816206"
      ]
     },
     "execution_count": 57,
     "metadata": {},
     "output_type": "execute_result"
    }
   ],
   "source": [
    "Yes_BM[np.isnan(Yes_BM)] = 0\n",
    "n_yes=len(Yes_BM)\n",
    "AVG_FDose_BM=Yes_BM['NumDose'].sum()/n_yes\n",
    "AVG_FDose_BM"
   ]
  },
  {
   "cell_type": "code",
   "execution_count": 59,
   "metadata": {},
   "outputs": [
    {
     "data": {
      "text/plain": [
       "0.7804161566707466"
      ]
     },
     "execution_count": 59,
     "metadata": {},
     "output_type": "execute_result"
    }
   ],
   "source": [
    "No_BM[np.isnan(No_BM)] = 0\n",
    "n_no=len(No_BM)\n",
    "AVG_FDose_notBM=No_BM['NumDose'].sum()/n_no\n",
    "AVG_FDose_notBM"
   ]
  },
  {
   "cell_type": "code",
   "execution_count": 112,
   "metadata": {},
   "outputs": [],
   "source": [
    "a=(AVG_FDose_BM,AVG_FDose_notBM)"
   ]
  },
  {
   "cell_type": "code",
   "execution_count": 62,
   "metadata": {
    "deletable": false,
    "nbgrader": {
     "cell_type": "code",
     "checksum": "a405d639063c4a6408365479f29c95c9",
     "grade": false,
     "grade_id": "cell-77f18c512324eabb",
     "locked": false,
     "schema_version": 3,
     "solution": true
    }
   },
   "outputs": [],
   "source": [
    "def average_influenza_doses():\n",
    "    # YOUR CODE HERE\n",
    "    # raise NotImplementedError()\n",
    "    import pandas as pd\n",
    "    import numpy as np\n",
    "    df = pd.read_csv(\"assets/NISPUF17.csv\", index_col=0)\n",
    "    \n",
    "    cbf_flu=df.loc[:,['CBF_01','P_NUMFLU']]\n",
    "    \n",
    "    \n",
    "    cbf_flu1=cbf_flu[cbf_flu['CBF_01'] ==1].dropna()\n",
    "    cbf_flu2=cbf_flu[cbf_flu['CBF_01'] ==2].dropna()\n",
    "    \n",
    "    flu1=cbf_flu1['P_NUMFLU'].values.copy()\n",
    "    flu1[np.isnan(flu1)] = 0\n",
    "    f1=np.sum(flu1)/len(flu1)\n",
    "    \n",
    "    flu2=cbf_flu2['P_NUMFLU'].values.copy()\n",
    "    flu2[np.isnan(flu2)] = 0\n",
    "    f2=np.sum(flu2)/len(flu2)\n",
    "    \n",
    "    aid =(f1,f2)\n",
    "    return aid\n",
    "average_influenza_doses()"
   ]
  },
  {
   "cell_type": "code",
   "execution_count": null,
   "metadata": {},
   "outputs": [],
   "source": [
    "\"\"\" Wrong answer\n",
    "def average_influenza_doses():\n",
    "    # YOUR CODE HERE\n",
    "    import pandas as pd\n",
    "    import numpy as np\n",
    "    df=pd.read_csv('assets/NISPUF17.csv')\n",
    "    \n",
    "    #Keep CBF_01 and P_NUMFLUE columns => df2\n",
    "    df2=df[['CBF_01','P_NUMFLU']]\n",
    "    \n",
    "    #Rename\n",
    "    df2=df2.rename(columns={'CBF_01':'ReceiveBM','P_NUMFLU':'NumDose'})\n",
    "    \n",
    "    #define table of Received BreastMilk\n",
    "    Yes_BM=df2[df2['ReceiveBM']==1]\n",
    "    \n",
    "    #define table of None Received BreastMilk\n",
    "    No_BM=df2[df2['ReceiveBM']==2]\n",
    "    \n",
    "    Yes_BM[np.isnan(Yes_BM)] = 0\n",
    "    n_yes=len(Yes_BM)\n",
    "    AVG_FDose_BM=Yes_BM['NumDose'].sum()/n_yes\n",
    "    AVG_FDose_BM\n",
    "    \n",
    "    No_BM[np.isnan(No_BM)] = 0\n",
    "    n_no=len(No_BM)\n",
    "    AVG_FDose_notBM=No_BM['NumDose'].sum()/n_no\n",
    "    AVG_FDose_notBM\n",
    "    \n",
    "    a=(AVG_FDose_BM,AVG_FDose_notBM)\n",
    "    return a\n",
    "   # raise NotImplementedError()"
   ]
  },
  {
   "cell_type": "code",
   "execution_count": 63,
   "metadata": {},
   "outputs": [
    {
     "data": {
      "text/plain": [
       "(1.0298833518816206, 0.7804161566707466)"
      ]
     },
     "execution_count": 63,
     "metadata": {},
     "output_type": "execute_result"
    }
   ],
   "source": [
    "average_influenza_doses()"
   ]
  },
  {
   "cell_type": "code",
   "execution_count": 74,
   "metadata": {
    "deletable": false,
    "editable": false,
    "nbgrader": {
     "cell_type": "code",
     "checksum": "19be955e97fdf7162d43fbb7c2c40951",
     "grade": true,
     "grade_id": "cell-54a3ba6cff31caa7",
     "locked": true,
     "points": 1,
     "schema_version": 3,
     "solution": false
    }
   },
   "outputs": [
    {
     "ename": "AttributeError",
     "evalue": "'DataFrame' object has no attribute 'value'",
     "output_type": "error",
     "traceback": [
      "\u001b[0;31m---------------------------------------------------------------------------\u001b[0m",
      "\u001b[0;31mAttributeError\u001b[0m                            Traceback (most recent call last)",
      "Input \u001b[0;32mIn [74]\u001b[0m, in \u001b[0;36m<cell line: 1>\u001b[0;34m()\u001b[0m\n\u001b[0;32m----> 1\u001b[0m \u001b[38;5;28;01massert\u001b[39;00m \u001b[38;5;28mlen\u001b[39m(\u001b[43maverage_influenza_doses\u001b[49m\u001b[43m(\u001b[49m\u001b[43m)\u001b[49m)\u001b[38;5;241m==\u001b[39m\u001b[38;5;241m2\u001b[39m, \u001b[38;5;124m\"\u001b[39m\u001b[38;5;124mReturn two values in a tuple, the first for yes and the second for no.\u001b[39m\u001b[38;5;124m\"\u001b[39m\n",
      "Input \u001b[0;32mIn [65]\u001b[0m, in \u001b[0;36maverage_influenza_doses\u001b[0;34m()\u001b[0m\n\u001b[1;32m     11\u001b[0m df2\u001b[38;5;241m=\u001b[39mdf2\u001b[38;5;241m.\u001b[39mrename(columns\u001b[38;5;241m=\u001b[39m{\u001b[38;5;124m'\u001b[39m\u001b[38;5;124mCBF_01\u001b[39m\u001b[38;5;124m'\u001b[39m:\u001b[38;5;124m'\u001b[39m\u001b[38;5;124mReceiveBM\u001b[39m\u001b[38;5;124m'\u001b[39m,\u001b[38;5;124m'\u001b[39m\u001b[38;5;124mP_NUMFLU\u001b[39m\u001b[38;5;124m'\u001b[39m:\u001b[38;5;124m'\u001b[39m\u001b[38;5;124mNumDose\u001b[39m\u001b[38;5;124m'\u001b[39m})\n\u001b[1;32m     13\u001b[0m \u001b[38;5;66;03m#define table of Received BreastMilk\u001b[39;00m\n\u001b[0;32m---> 14\u001b[0m Yes_BM\u001b[38;5;241m=\u001b[39m\u001b[43mdf2\u001b[49m\u001b[43m[\u001b[49m\u001b[43mdf2\u001b[49m\u001b[43m[\u001b[49m\u001b[38;5;124;43m'\u001b[39;49m\u001b[38;5;124;43mReceiveBM\u001b[39;49m\u001b[38;5;124;43m'\u001b[39;49m\u001b[43m]\u001b[49m\u001b[38;5;241;43m==\u001b[39;49m\u001b[38;5;241;43m1\u001b[39;49m\u001b[43m]\u001b[49m\u001b[38;5;241;43m.\u001b[39;49m\u001b[43mvalue\u001b[49m()\n\u001b[1;32m     16\u001b[0m \u001b[38;5;66;03m#define table of None Received BreastMilk\u001b[39;00m\n\u001b[1;32m     17\u001b[0m No_BM\u001b[38;5;241m=\u001b[39mdf2[df2[\u001b[38;5;124m'\u001b[39m\u001b[38;5;124mReceiveBM\u001b[39m\u001b[38;5;124m'\u001b[39m]\u001b[38;5;241m==\u001b[39m\u001b[38;5;241m2\u001b[39m]\u001b[38;5;241m.\u001b[39mvalue()\n",
      "File \u001b[0;32m/opt/conda/lib/python3.8/site-packages/pandas/core/generic.py:5902\u001b[0m, in \u001b[0;36mNDFrame.__getattr__\u001b[0;34m(self, name)\u001b[0m\n\u001b[1;32m   5895\u001b[0m \u001b[38;5;28;01mif\u001b[39;00m (\n\u001b[1;32m   5896\u001b[0m     name \u001b[38;5;129;01mnot\u001b[39;00m \u001b[38;5;129;01min\u001b[39;00m \u001b[38;5;28mself\u001b[39m\u001b[38;5;241m.\u001b[39m_internal_names_set\n\u001b[1;32m   5897\u001b[0m     \u001b[38;5;129;01mand\u001b[39;00m name \u001b[38;5;129;01mnot\u001b[39;00m \u001b[38;5;129;01min\u001b[39;00m \u001b[38;5;28mself\u001b[39m\u001b[38;5;241m.\u001b[39m_metadata\n\u001b[1;32m   5898\u001b[0m     \u001b[38;5;129;01mand\u001b[39;00m name \u001b[38;5;129;01mnot\u001b[39;00m \u001b[38;5;129;01min\u001b[39;00m \u001b[38;5;28mself\u001b[39m\u001b[38;5;241m.\u001b[39m_accessors\n\u001b[1;32m   5899\u001b[0m     \u001b[38;5;129;01mand\u001b[39;00m \u001b[38;5;28mself\u001b[39m\u001b[38;5;241m.\u001b[39m_info_axis\u001b[38;5;241m.\u001b[39m_can_hold_identifiers_and_holds_name(name)\n\u001b[1;32m   5900\u001b[0m ):\n\u001b[1;32m   5901\u001b[0m     \u001b[38;5;28;01mreturn\u001b[39;00m \u001b[38;5;28mself\u001b[39m[name]\n\u001b[0;32m-> 5902\u001b[0m \u001b[38;5;28;01mreturn\u001b[39;00m \u001b[38;5;28;43mobject\u001b[39;49m\u001b[38;5;241;43m.\u001b[39;49m\u001b[38;5;21;43m__getattribute__\u001b[39;49m\u001b[43m(\u001b[49m\u001b[38;5;28;43mself\u001b[39;49m\u001b[43m,\u001b[49m\u001b[43m \u001b[49m\u001b[43mname\u001b[49m\u001b[43m)\u001b[49m\n",
      "\u001b[0;31mAttributeError\u001b[0m: 'DataFrame' object has no attribute 'value'"
     ]
    }
   ],
   "source": [
    "assert len(average_influenza_doses())==2, \"Return two values in a tuple, the first for yes and the second for no.\"\n"
   ]
  },
  {
   "cell_type": "markdown",
   "metadata": {
    "deletable": false,
    "editable": false,
    "nbgrader": {
     "cell_type": "markdown",
     "checksum": "e10e2163f5957a0c398ef4f0b76b4efe",
     "grade": false,
     "grade_id": "cell-f63377f3c97aa7c4",
     "locked": true,
     "schema_version": 3,
     "solution": false
    }
   },
   "source": [
    "## Question 3\n",
    "It would be interesting to see if there is any evidence of a link between vaccine effectiveness and sex of the child. Calculate the ratio of the number of children who contracted chickenpox but were vaccinated against it (at least one varicella dose) versus those who were vaccinated but did not contract chicken pox. Return results by sex. \n",
    "\n",
    "*This function should return a dictionary in the form of (use the correct numbers):* \n",
    "```\n",
    "    {\"male\":0.2,\n",
    "    \"female\":0.4}\n",
    "```\n",
    "\n",
    "Note: To aid in verification, the `chickenpox_by_sex()['female']` value the autograder is looking for starts with the digits `0.0077`."
   ]
  },
  {
   "cell_type": "code",
   "execution_count": 9,
   "metadata": {
    "tags": []
   },
   "outputs": [
    {
     "data": {
      "text/html": [
       "<div>\n",
       "<style scoped>\n",
       "    .dataframe tbody tr th:only-of-type {\n",
       "        vertical-align: middle;\n",
       "    }\n",
       "\n",
       "    .dataframe tbody tr th {\n",
       "        vertical-align: top;\n",
       "    }\n",
       "\n",
       "    .dataframe thead th {\n",
       "        text-align: right;\n",
       "    }\n",
       "</style>\n",
       "<table border=\"1\" class=\"dataframe\">\n",
       "  <thead>\n",
       "    <tr style=\"text-align: right;\">\n",
       "      <th></th>\n",
       "      <th>SEX</th>\n",
       "      <th>HAD_CPOX</th>\n",
       "      <th>P_NUMVRC</th>\n",
       "    </tr>\n",
       "  </thead>\n",
       "  <tbody>\n",
       "    <tr>\n",
       "      <th>0</th>\n",
       "      <td>1</td>\n",
       "      <td>2</td>\n",
       "      <td>NaN</td>\n",
       "    </tr>\n",
       "    <tr>\n",
       "      <th>1</th>\n",
       "      <td>1</td>\n",
       "      <td>2</td>\n",
       "      <td>NaN</td>\n",
       "    </tr>\n",
       "    <tr>\n",
       "      <th>2</th>\n",
       "      <td>2</td>\n",
       "      <td>2</td>\n",
       "      <td>NaN</td>\n",
       "    </tr>\n",
       "    <tr>\n",
       "      <th>3</th>\n",
       "      <td>2</td>\n",
       "      <td>2</td>\n",
       "      <td>1.0</td>\n",
       "    </tr>\n",
       "    <tr>\n",
       "      <th>4</th>\n",
       "      <td>2</td>\n",
       "      <td>2</td>\n",
       "      <td>0.0</td>\n",
       "    </tr>\n",
       "    <tr>\n",
       "      <th>...</th>\n",
       "      <td>...</td>\n",
       "      <td>...</td>\n",
       "      <td>...</td>\n",
       "    </tr>\n",
       "    <tr>\n",
       "      <th>28460</th>\n",
       "      <td>2</td>\n",
       "      <td>2</td>\n",
       "      <td>NaN</td>\n",
       "    </tr>\n",
       "    <tr>\n",
       "      <th>28461</th>\n",
       "      <td>2</td>\n",
       "      <td>2</td>\n",
       "      <td>NaN</td>\n",
       "    </tr>\n",
       "    <tr>\n",
       "      <th>28462</th>\n",
       "      <td>2</td>\n",
       "      <td>2</td>\n",
       "      <td>NaN</td>\n",
       "    </tr>\n",
       "    <tr>\n",
       "      <th>28463</th>\n",
       "      <td>2</td>\n",
       "      <td>2</td>\n",
       "      <td>NaN</td>\n",
       "    </tr>\n",
       "    <tr>\n",
       "      <th>28464</th>\n",
       "      <td>2</td>\n",
       "      <td>2</td>\n",
       "      <td>NaN</td>\n",
       "    </tr>\n",
       "  </tbody>\n",
       "</table>\n",
       "<p>28465 rows × 3 columns</p>\n",
       "</div>"
      ],
      "text/plain": [
       "       SEX  HAD_CPOX  P_NUMVRC\n",
       "0        1         2       NaN\n",
       "1        1         2       NaN\n",
       "2        2         2       NaN\n",
       "3        2         2       1.0\n",
       "4        2         2       0.0\n",
       "...    ...       ...       ...\n",
       "28460    2         2       NaN\n",
       "28461    2         2       NaN\n",
       "28462    2         2       NaN\n",
       "28463    2         2       NaN\n",
       "28464    2         2       NaN\n",
       "\n",
       "[28465 rows x 3 columns]"
      ]
     },
     "execution_count": 9,
     "metadata": {},
     "output_type": "execute_result"
    }
   ],
   "source": [
    "import pandas as pd\n",
    "import numpy as np\n",
    "df=pd.read_csv('assets/NISPUF17.csv')\n",
    "\n",
    "#Keep HAD_CPOX and P_NUMVRC columns => df2\n",
    "df2=df[['SEX','HAD_CPOX','P_NUMVRC']]\n",
    "df2"
   ]
  },
  {
   "cell_type": "code",
   "execution_count": 3,
   "metadata": {
    "collapsed": true,
    "jupyter": {
     "outputs_hidden": true
    },
    "tags": []
   },
   "outputs": [
    {
     "name": "stdout",
     "output_type": "stream",
     "text": [
      "0     2\n",
      "1     2\n",
      "2     2\n",
      "3     2\n",
      "4     2\n",
      "5     2\n",
      "6     2\n",
      "7     2\n",
      "8     1\n",
      "9     2\n",
      "10    2\n",
      "11    2\n",
      "12    2\n",
      "13    2\n",
      "14    2\n",
      "15    2\n",
      "16    2\n",
      "17    2\n",
      "18    2\n",
      "19    2\n",
      "Name: HAD_CPOX, dtype: int64\n"
     ]
    }
   ],
   "source": [
    "#Check had_cpox column\n",
    "print(df2['HAD_CPOX'].head(20))"
   ]
  },
  {
   "cell_type": "code",
   "execution_count": 10,
   "metadata": {
    "tags": []
   },
   "outputs": [],
   "source": [
    "#df with vacinced\n",
    "df3=df2[df2['P_NUMVRC']>=1]\n",
    "\n",
    "#df of male\n",
    "male_df=df3[df3['SEX']==1]\n",
    "\n",
    "#df of female\n",
    "female_df=df3[df3['SEX']==2]"
   ]
  },
  {
   "cell_type": "code",
   "execution_count": 13,
   "metadata": {},
   "outputs": [
    {
     "data": {
      "text/plain": [
       "0.009675583380762664"
      ]
     },
     "execution_count": 13,
     "metadata": {},
     "output_type": "execute_result"
    }
   ],
   "source": [
    "#Male df calculation\n",
    "\n",
    "CP_male=male_df[male_df['HAD_CPOX']==1]\n",
    "n_CP_male=len(CP_male)\n",
    "\n",
    "nonCP_male=male_df[male_df['HAD_CPOX']==2]\n",
    "n_nonCP_male=len(nonCP_male)\n",
    "\n",
    "ratio_male=n_CP_male/n_nonCP_male\n",
    "\n",
    "ratio_male"
   ]
  },
  {
   "cell_type": "code",
   "execution_count": 14,
   "metadata": {},
   "outputs": [
    {
     "data": {
      "text/plain": [
       "0.0077918259335489565"
      ]
     },
     "execution_count": 14,
     "metadata": {},
     "output_type": "execute_result"
    }
   ],
   "source": [
    "#Female df calculation\n",
    "\n",
    "CP_female=female_df[female_df['HAD_CPOX']==1]\n",
    "n_CP_female=len(CP_female)\n",
    "\n",
    "nonCP_female=female_df[female_df['HAD_CPOX']==2]\n",
    "n_nonCP_female=len(nonCP_female)\n",
    "\n",
    "ratio_female=n_CP_female/n_nonCP_female\n",
    "\n",
    "ratio_female"
   ]
  },
  {
   "cell_type": "code",
   "execution_count": 73,
   "metadata": {
    "deletable": false,
    "nbgrader": {
     "cell_type": "code",
     "checksum": "b4d1b58acae002bc73eb0b19f95bc4af",
     "grade": false,
     "grade_id": "cell-a0a9e6fe67698006",
     "locked": false,
     "schema_version": 3,
     "solution": true
    }
   },
   "outputs": [],
   "source": [
    "def chickenpox_by_sex():\n",
    "    # YOUR CODE HERE\n",
    "    import pandas as pd\n",
    "    import numpy as np\n",
    "    df=pd.read_csv('assets/NISPUF17.csv')\n",
    "\n",
    "    df2=df[['SEX','HAD_CPOX','P_NUMVRC']]\n",
    "    \n",
    "    #df with vacinced\n",
    "    df3=df2[df2['P_NUMVRC']>=1]\n",
    "\n",
    "    #df of male\n",
    "    male_df=df3[df3['SEX']==1]\n",
    "\n",
    "    #df of female\n",
    "    female_df=df3[df3['SEX']==2]\n",
    "    \n",
    "    \n",
    "    b={\"male\":0,\"female\":0}\n",
    "    \n",
    "    #Male df calculation\n",
    "\n",
    "    CP_male=male_df[male_df['HAD_CPOX']==1]\n",
    "    n_CP_male=len(CP_male)\n",
    "\n",
    "    nonCP_male=male_df[male_df['HAD_CPOX']==2]\n",
    "    n_nonCP_male=len(nonCP_male)\n",
    "\n",
    "    b['male']=n_CP_male/n_nonCP_male\n",
    "    \n",
    "    #Female df calculation\n",
    "\n",
    "    CP_female=female_df[female_df['HAD_CPOX']==1]\n",
    "    n_CP_female=len(CP_female)\n",
    "\n",
    "    nonCP_female=female_df[female_df['HAD_CPOX']==2]\n",
    "    n_nonCP_female=len(nonCP_female)\n",
    "\n",
    "    b['female']=n_CP_female/n_nonCP_female\n",
    "\n",
    "    return b\n",
    "    #raise NotImplementedError()"
   ]
  },
  {
   "cell_type": "code",
   "execution_count": 72,
   "metadata": {},
   "outputs": [
    {
     "data": {
      "text/plain": [
       "{'female': 0.0077918259335489565, 'male': 0.009675583380762664}"
      ]
     },
     "execution_count": 72,
     "metadata": {},
     "output_type": "execute_result"
    }
   ],
   "source": [
    "chickenpox_by_sex()"
   ]
  },
  {
   "cell_type": "code",
   "execution_count": 50,
   "metadata": {
    "deletable": false,
    "editable": false,
    "nbgrader": {
     "cell_type": "code",
     "checksum": "1b6a113a633c55699ae478a3a9ee9c33",
     "grade": true,
     "grade_id": "cell-c4f1714db100c865",
     "locked": true,
     "points": 1,
     "schema_version": 3,
     "solution": false
    }
   },
   "outputs": [],
   "source": [
    "assert len(chickenpox_by_sex())==2, \"Return a dictionary with two items, the first for males and the second for females.\"\n"
   ]
  },
  {
   "cell_type": "markdown",
   "metadata": {},
   "source": [
    "## Question 4\n",
    "A correlation is a statistical relationship between two variables. If we wanted to know if vaccines work, we might look at the correlation between the use of the vaccine and whether it results in prevention of the infection or disease [1]. In this question, you are to see if there is a correlation between having had the chicken pox and the number of chickenpox vaccine doses given (varicella).\n",
    "\n",
    "Some notes on interpreting the answer. The `had_chickenpox_column` is either `1` (for yes) or `2` (for no), and the `num_chickenpox_vaccine_column` is the number of doses a child has been given of the varicella vaccine. A positive correlation (e.g., `corr > 0`) means that an increase in `had_chickenpox_column` (which means more no’s) would also increase the values of `num_chickenpox_vaccine_column` (which means more doses of vaccine). If there is a negative correlation (e.g., `corr < 0`), it indicates that having had chickenpox is related to an increase in the number of vaccine doses.\n",
    "\n",
    "Also, `pval` is the probability that we observe a correlation between `had_chickenpox_column` and `num_chickenpox_vaccine_column` which is greater than or equal to a particular value occurred by chance. A small `pval` means that the observed correlation is highly unlikely to occur by chance. In this case, `pval` should be very small (will end in `e-18` indicating a very small number).\n",
    "\n",
    "[1] This isn’t really the full picture, since we are not looking at when the dose was given. It’s possible that children had chickenpox and then their parents went to get them the vaccine. Does this dataset have the data we would need to investigate the timing of the dose?"
   ]
  },
  {
   "cell_type": "code",
   "execution_count": 31,
   "metadata": {
    "deletable": false,
    "nbgrader": {
     "cell_type": "code",
     "checksum": "3e645859949447913cd11d30eb33cb1e",
     "grade": false,
     "grade_id": "cell-8afff07f564cf79a",
     "locked": false,
     "schema_version": 3,
     "solution": true
    }
   },
   "outputs": [],
   "source": [
    "def corr_chickenpox():\n",
    "    import scipy.stats as stats\n",
    "    import numpy as np\n",
    "    import pandas as pd\n",
    "\n",
    "    # this is just an example dataframe\n",
    "    # df=pd.DataFrame({\"had_chickenpox_column\":np.random.randint(1,3,size=(100)),\n",
    "    #                \"num_chickenpox_vaccine_column\":np.random.randint(0,6,size=(100))})\n",
    "    \n",
    "    df = pd.read_csv(\"assets/NISPUF17.csv\", index_col=0)\n",
    "\n",
    "    df=df[df['HAD_CPOX'].lt(3)].loc[:,['HAD_CPOX','P_NUMVRC']].dropna()\n",
    "    df.columns=['had_chickenpox_column','num_chickenpox_vaccine_column']\n",
    "    # here is some stub code to actually run the correlation\n",
    "    corr, pval=stats.pearsonr(df[\"had_chickenpox_column\"],df[\"num_chickenpox_vaccine_column\"])\n",
    "    return corr"
   ]
  },
  {
   "cell_type": "code",
   "execution_count": 47,
   "metadata": {},
   "outputs": [
    {
     "data": {
      "text/plain": [
       "0.07044873460147986"
      ]
     },
     "execution_count": 47,
     "metadata": {},
     "output_type": "execute_result"
    }
   ],
   "source": [
    "import scipy.stats as stats\n",
    "import numpy as np\n",
    "import pandas as pd\n",
    "\n",
    "    # this is just an example dataframe\n",
    "    # df=pd.DataFrame({\"had_chickenpox_column\":np.random.randint(1,3,size=(100)),\n",
    "    #                \"num_chickenpox_vaccine_column\":np.random.randint(0,6,size=(100))})\n",
    "df = pd.read_csv(\"assets/NISPUF17.csv\", index_col=0)\n",
    "\n",
    "df=df[df['HAD_CPOX'].lt(3)].loc[:,['HAD_CPOX','P_NUMVRC']].dropna()\n",
    "df.columns=['had_chickenpox_column','num_chickenpox_vaccine_column']\n",
    "    # here is some stub code to actually run the correlation\n",
    "corr, pval=stats.pearsonr(df[\"had_chickenpox_column\"],df[\"num_chickenpox_vaccine_column\"])\n",
    "corr"
   ]
  },
  {
   "cell_type": "code",
   "execution_count": 42,
   "metadata": {
    "deletable": false,
    "editable": false,
    "nbgrader": {
     "cell_type": "code",
     "checksum": "ac50ccb747b99f6bbcc76da017e66528",
     "grade": true,
     "grade_id": "cell-73408733533a29a5",
     "locked": true,
     "points": 1,
     "schema_version": 3,
     "solution": false
    }
   },
   "outputs": [],
   "source": [
    "assert -1<=corr_chickenpox()<=1, \"You must return a float number between -1.0 and 1.0.\"\n"
   ]
  }
 ],
 "metadata": {
  "anaconda-cloud": {},
  "coursera": {
   "schema_names": [
    "mooc_adswpy_v1_assignment2"
   ]
  },
  "hide_code_all_hidden": false,
  "kernelspec": {
   "display_name": "Python 3 (ipykernel)",
   "language": "python",
   "name": "python3"
  },
  "language_info": {
   "codemirror_mode": {
    "name": "ipython",
    "version": 3
   },
   "file_extension": ".py",
   "mimetype": "text/x-python",
   "name": "python",
   "nbconvert_exporter": "python",
   "pygments_lexer": "ipython3",
   "version": "3.8.10"
  }
 },
 "nbformat": 4,
 "nbformat_minor": 4
}
